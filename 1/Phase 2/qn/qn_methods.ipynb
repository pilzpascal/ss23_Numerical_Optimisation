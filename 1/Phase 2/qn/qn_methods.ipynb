{
 "cells": [
  {
   "cell_type": "code",
   "execution_count": 1,
   "id": "a2eeafdd-24da-4dc3-81f3-614ea7bc29a3",
   "metadata": {},
   "outputs": [],
   "source": [
    "import numpy as np\n",
    "from scipy.optimize import minimize\n",
    "\n",
    "from optimization import bfgs_method, sr1_method\n",
    "from problems import rosenbrock, rosenbrock_grad, rosenbrock_starting_points\n",
    "from problems import function_2, function_2_grad, function_2_starting_points"
   ]
  },
  {
   "cell_type": "code",
   "execution_count": 5,
   "id": "fa61c4b7-488b-4523-9326-ce8871fd3a81",
   "metadata": {},
   "outputs": [],
   "source": [
    "def perform_QN(method, f, grad, starting_points, max_iter=100, epsilon=1e-6):\n",
    "    for i, sp in enumerate(starting_points):\n",
    "        print(f\"Solving Problem-{i+1}, Starting Point: {sp}\")\n",
    "        x0 = np.array(sp)\n",
    "        \n",
    "        x_opt, gnorm, num_iters = method(f, grad, x0, max_iter, epsilon)\n",
    "        \n",
    "        print(\"Optimal solution:\")\n",
    "        print(f\"x = {x_opt}\")\n",
    "        print(f\"norm of grad = {gnorm}\")\n",
    "        print(f\"Number of iterations: {num_iters}\\n\")\n",
    "        \n",
    "def perform_QN_scipy(f, starting_points, max_iter=100, epsilon=1e-6):\n",
    "    for i, sp in enumerate(starting_points):\n",
    "        print(f\"Solving Problem-{i+1}, Starting Point: {sp}\")\n",
    "        x0 = np.array(sp)\n",
    "        \n",
    "        result = minimize(f, x0, method='BFGS', options={'maxiter': max_iter, 'gtol': epsilon})\n",
    "\n",
    "        print(\"Optimal solution:\")\n",
    "        print(f\"x = {result.x}\")\n",
    "        print(f\"f(x) = {result.fun}\")\n",
    "        print(f\"Number of iterations: {result.nit}\\n\")"
   ]
  },
  {
   "cell_type": "code",
   "execution_count": 6,
   "id": "4d53c239-dd81-44a7-a2f4-7abe1efc8dae",
   "metadata": {},
   "outputs": [
    {
     "name": "stdout",
     "output_type": "stream",
     "text": [
      "<Quasi Newton Method for the Rosenbrock function>\n",
      "BFGS--------------------------------------------------\n",
      "Solving Problem-1, Starting Point: (1.2, 1.2)\n",
      "Optimal solution:\n",
      "x = [1. 1.]\n",
      "norm of grad = 3.9172139696307626e-08\n",
      "Number of iterations: 11\n",
      "\n",
      "Solving Problem-2, Starting Point: (-1.2, 1)\n",
      "Optimal solution:\n",
      "x = [1.00000001 1.00000001]\n",
      "norm of grad = 1.0506595642943314e-07\n",
      "Number of iterations: 34\n",
      "\n",
      "Solving Problem-3, Starting Point: (0.2, 0.8)\n",
      "Optimal solution:\n",
      "x = [1. 1.]\n",
      "norm of grad = 1.9771719277570665e-08\n",
      "Number of iterations: 21\n",
      "\n",
      "SR1---------------------------------------------------\n",
      "Solving Problem-1, Starting Point: (1.2, 1.2)\n",
      "Optimal solution:\n",
      "x = [1. 1.]\n",
      "norm of grad = 8.804632601024593e-08\n",
      "Number of iterations: 12\n",
      "\n",
      "Solving Problem-2, Starting Point: (-1.2, 1)\n",
      "Optimal solution:\n",
      "x = [1. 1.]\n",
      "norm of grad = 7.706622491884477e-10\n",
      "Number of iterations: 41\n",
      "\n",
      "Solving Problem-3, Starting Point: (0.2, 0.8)\n",
      "Optimal solution:\n",
      "x = [0.99999978 0.99999956]\n",
      "norm of grad = 5.734284088253337e-07\n",
      "Number of iterations: 22\n",
      "\n"
     ]
    }
   ],
   "source": [
    "print(\"<Quasi Newton Method for the Rosenbrock function>\")\n",
    "print(\"BFGS\"+\"-\"*50)\n",
    "perform_QN(bfgs_method, rosenbrock, rosenbrock_grad, rosenbrock_starting_points)\n",
    "print(\"SR1-\" + \"-\"*50)\n",
    "perform_QN(sr1_method, rosenbrock, rosenbrock_grad, rosenbrock_starting_points)"
   ]
  },
  {
   "cell_type": "code",
   "execution_count": 7,
   "id": "7598b420-41d4-4e61-819c-c6685634ab42",
   "metadata": {},
   "outputs": [
    {
     "name": "stdout",
     "output_type": "stream",
     "text": [
      "<Quasi Newton Method for the second Function>\n",
      "BFGS--------------------------------------------------\n",
      "Solving Problem-1, Starting Point: (-0.2, 1.2)\n",
      "Optimal solution:\n",
      "x = [ 4.000000e+00 -3.468578e-11]\n",
      "norm of grad = 1.7076990231341392e-07\n",
      "Number of iterations: 11\n",
      "\n",
      "Solving Problem-2, Starting Point: (3.8, 0.1)\n",
      "Optimal solution:\n",
      "x = [4.00000000e+00 2.99090477e-13]\n",
      "norm of grad = 1.5261767933646526e-09\n",
      "Number of iterations: 8\n",
      "\n",
      "Solving Problem-3, Starting Point: (1.9, 0.6)\n",
      "Optimal solution:\n",
      "x = [ 4.00000000e+00 -2.61907483e-13]\n",
      "norm of grad = 1.0721881353034358e-09\n",
      "Number of iterations: 21\n",
      "\n",
      "SR1---------------------------------------------------\n",
      "Solving Problem-1, Starting Point: (-0.2, 1.2)\n",
      "Optimal solution:\n",
      "x = [4.00000000e+00 6.00658256e-12]\n",
      "norm of grad = 2.8910434546734335e-08\n",
      "Number of iterations: 9\n",
      "\n",
      "Solving Problem-2, Starting Point: (3.8, 0.1)\n",
      "Optimal solution:\n",
      "x = [ 3.99999999e+00 -1.99645091e-11]\n",
      "norm of grad = 1.1426748335485134e-07\n",
      "Number of iterations: 7\n",
      "\n",
      "Solving Problem-3, Starting Point: (1.9, 0.6)\n",
      "Optimal solution:\n",
      "x = [-3.70872618e-10  1.00000000e+00]\n",
      "norm of grad = 1.1154428248553136e-07\n",
      "Number of iterations: 26\n",
      "\n"
     ]
    }
   ],
   "source": [
    "print(\"<Quasi Newton Method for the second Function>\")\n",
    "print(\"BFGS\"+\"-\"*50)\n",
    "perform_QN(bfgs_method, function_2, function_2_grad, function_2_starting_points)\n",
    "print(\"SR1-\" + \"-\"*50)\n",
    "perform_QN(sr1_method, function_2, function_2_grad, function_2_starting_points)"
   ]
  },
  {
   "cell_type": "code",
   "execution_count": 10,
   "id": "6a59b10a-32ea-4bde-813e-da698959fbf9",
   "metadata": {},
   "outputs": [],
   "source": [
    "#perform_QN_scipy(rosenbrock, rosenbrock_starting_points)"
   ]
  },
  {
   "cell_type": "code",
   "execution_count": null,
   "id": "4196210c-1d4c-44be-ac24-abbaa7f515af",
   "metadata": {},
   "outputs": [],
   "source": []
  }
 ],
 "metadata": {
  "kernelspec": {
   "display_name": "Python 3 (ipykernel)",
   "language": "python",
   "name": "python3"
  },
  "language_info": {
   "codemirror_mode": {
    "name": "ipython",
    "version": 3
   },
   "file_extension": ".py",
   "mimetype": "text/x-python",
   "name": "python",
   "nbconvert_exporter": "python",
   "pygments_lexer": "ipython3",
   "version": "3.9.12"
  }
 },
 "nbformat": 4,
 "nbformat_minor": 5
}
